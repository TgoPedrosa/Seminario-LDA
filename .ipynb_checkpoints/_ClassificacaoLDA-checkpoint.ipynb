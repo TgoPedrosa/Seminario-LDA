{
 "cells": [
  {
   "cell_type": "code",
   "execution_count": 1,
   "metadata": {},
   "outputs": [],
   "source": [
    "import pandas as pd\n",
    "import numpy as np\n",
    "from wordcloud import WordCloud, STOPWORDS, ImageColorGenerator\n",
    "import matplotlib.pyplot as plt\n",
    "from nltk.corpus import stopwords\n",
    "from nltk.tokenize import word_tokenize, sent_tokenize\n",
    "from string import punctuation"
   ]
  },
  {
   "cell_type": "code",
   "execution_count": 2,
   "metadata": {},
   "outputs": [],
   "source": [
    "pd.set_option('display.max_colwidth', None)"
   ]
  },
  {
   "cell_type": "code",
   "execution_count": 3,
   "metadata": {},
   "outputs": [],
   "source": [
    "csv_dd13 = pd.read_csv(\"dd13.csv\")\n"
   ]
  },
  {
   "cell_type": "markdown",
   "metadata": {},
   "source": [
    "## Pré-processamento"
   ]
  },
  {
   "cell_type": "code",
   "execution_count": 4,
   "metadata": {},
   "outputs": [
    {
     "name": "stdout",
     "output_type": "stream",
     "text": [
      "<class 'pandas.core.frame.DataFrame'>\n",
      "RangeIndex: 1757 entries, 0 to 1756\n",
      "Data columns (total 9 columns):\n",
      " #   Column                            Non-Null Count  Dtype  \n",
      "---  ------                            --------------  -----  \n",
      " 0   Coluna ID                         1757 non-null   int64  \n",
      " 1   Matrícula do Usuário Cadastrante  1745 non-null   float64\n",
      " 2   Origem                            1757 non-null   object \n",
      " 3   UGB/DESC_GG (Nível 2)             1757 non-null   object \n",
      " 4   GERENCIA/AREA FABRICA (Nível 3)   1757 non-null   object \n",
      " 5   DEPARTAMENTO (Nível 5)            1757 non-null   object \n",
      " 6   Descrição                         1756 non-null   object \n",
      " 7   Nível do Acidente                 1733 non-null   float64\n",
      " 8   Momento                           1718 non-null   object \n",
      "dtypes: float64(2), int64(1), object(6)\n",
      "memory usage: 123.7+ KB\n"
     ]
    }
   ],
   "source": [
    "csv_dd13.info()"
   ]
  },
  {
   "cell_type": "code",
   "execution_count": 5,
   "metadata": {},
   "outputs": [],
   "source": [
    "csv_dd13[\"Descrição\"].fillna('', inplace=True)"
   ]
  },
  {
   "cell_type": "code",
   "execution_count": 6,
   "metadata": {},
   "outputs": [],
   "source": [
    "# Retirando valores NaN\n",
    "csv_dd13 = csv_dd13.dropna()"
   ]
  },
  {
   "cell_type": "code",
   "execution_count": 7,
   "metadata": {},
   "outputs": [
    {
     "data": {
      "image/png": "[encoded data removed]",
      "text/plain": [
       "<Figure size 1080x360 with 1 Axes>"
      ]
     },
     "metadata": {
      "needs_background": "light"
     },
     "output_type": "display_data"
    }
   ],
   "source": [
    "# Plotando incidentes por Nível do Acidente\n",
    "nivel_count = csv_dd13.groupby('Nível do Acidente').count()\n",
    "plt.figure(figsize=(15,5))\n",
    "plt.bar(nivel_count.index.values, nivel_count['Descrição'])\n",
    "plt.xlabel('Nível do Acidente')\n",
    "plt.ylabel('Numero de incidentes')\n",
    "plt.show()"
   ]
  },
  {
   "cell_type": "code",
   "execution_count": 8,
   "metadata": {},
   "outputs": [],
   "source": [
    "# Stopwords\n",
    "stop_words = set(stopwords.words('portuguese') + list(punctuation))\n",
    "# Removendo stopwords\n",
    "def removeStopWord(text):\n",
    "    sentence = word_tokenize(text)\n",
    "    filtered_sentence = \" \".join(str(w.lower()) for w in sentence if not w in stop_words)\n",
    "    return filtered_sentence"
   ]
  },
  {
   "cell_type": "code",
   "execution_count": 10,
   "metadata": {},
   "outputs": [],
   "source": [
    "# Funcao para transformar para dense\n",
    "from sklearn.base import TransformerMixin\n",
    "class DenseTransformer(TransformerMixin):\n",
    "\n",
    "    def fit(self, X, y=None, **fit_params):\n",
    "        return self\n",
    "\n",
    "    def transform(self, X, y=None, **fit_params):\n",
    "        return X.todense()\n"
   ]
  },
  {
   "cell_type": "markdown",
   "metadata": {},
   "source": [
    " ### Teste de classificação para preencher o nível do acidente"
   ]
  },
  {
   "cell_type": "code",
   "execution_count": 11,
   "metadata": {},
   "outputs": [],
   "source": [
    "from sklearn.feature_extraction.text import CountVectorizer, TfidfVectorizer\n",
    "from sklearn.model_selection import train_test_split, cross_val_score, GridSearchCV\n",
    "from sklearn.pipeline import Pipeline\n",
    "from sklearn.discriminant_analysis import LinearDiscriminantAnalysis\n",
    "from sklearn.metrics import confusion_matrix, precision_score, classification_report\n",
    "from sklearn.compose import ColumnTransformer\n",
    "\n",
    "X = csv_dd13['Descrição']\n",
    "y = csv_dd13['Nível do Acidente']\n",
    "X_train, X_test, y_train, y_test = train_test_split(X, y, test_size=.3, random_state = 13)"
   ]
  },
  {
   "cell_type": "code",
   "execution_count": 12,
   "metadata": {},
   "outputs": [],
   "source": [
    "modelLDA = Pipeline(steps = [('tf', TfidfVectorizer()), \n",
    "                              ('to_dense', DenseTransformer()), \n",
    "                              ('lda', LinearDiscriminantAnalysis())])"
   ]
  },
  {
   "cell_type": "code",
   "execution_count": 13,
   "metadata": {},
   "outputs": [
    {
     "data": {
      "text/plain": [
       "Pipeline(steps=[('tf', TfidfVectorizer()),\n",
       "                ('to_dense',\n",
       "                 <__main__.DenseTransformer object at 0x7fc7ac5817f0>),\n",
       "                ('lda', LinearDiscriminantAnalysis())])"
      ]
     },
     "execution_count": 13,
     "metadata": {},
     "output_type": "execute_result"
    }
   ],
   "source": [
    "modelLDA.fit(X_train, y_train)"
   ]
  },
  {
   "cell_type": "code",
   "execution_count": 14,
   "metadata": {},
   "outputs": [
    {
     "data": {
      "text/plain": [
       "array([[    7.56510961,   -19.9275806 ,  -869.02584731,   -28.41233249,\n",
       "         -113.51702202,  -417.3993714 ],\n",
       "       [    7.41470628,   -19.79679739,  -869.17625064,   -27.46908401,\n",
       "         -112.72654681,  -407.06853736],\n",
       "       [   30.77345523,   -17.45602111, -1089.61335209,   -32.73410077,\n",
       "         -182.366452  ,  -503.37138912],\n",
       "       ...,\n",
       "       [    8.36067813,   -34.68289586,  -868.23027879,   -20.9179278 ,\n",
       "         -114.91483463,  -426.58345853],\n",
       "       [    7.40773622,   -19.65599878,  -869.1832207 ,   -27.60310431,\n",
       "         -112.42320423,  -404.21241456],\n",
       "       [    7.35130397,   -19.99990499,  -869.23965295,   -26.32103926,\n",
       "         -116.4652104 ,  -407.69531536]])"
      ]
     },
     "execution_count": 14,
     "metadata": {},
     "output_type": "execute_result"
    }
   ],
   "source": [
    "modelLDA.decision_function(X)"
   ]
  },
  {
   "cell_type": "code",
   "execution_count": 15,
   "metadata": {},
   "outputs": [
    {
     "name": "stdout",
     "output_type": "stream",
     "text": [
      "Score:  0.9822033898305085\n",
      "[[215  54   6  69   6   1]\n",
      " [ 33  12   2  13   3   0]\n",
      " [ 11   7   2   9   5   0]\n",
      " [ 13   6   1  24   4   0]\n",
      " [  6   0   0   2   0   0]\n",
      " [  0   0   0   1   1   0]]\n",
      "              precision    recall  f1-score   support\n",
      "\n",
      "         1.0       0.77      0.61      0.68       351\n",
      "         2.0       0.15      0.19      0.17        63\n",
      "         3.0       0.18      0.06      0.09        34\n",
      "         4.0       0.20      0.50      0.29        48\n",
      "         5.0       0.00      0.00      0.00         8\n",
      "         6.0       0.00      0.00      0.00         2\n",
      "\n",
      "    accuracy                           0.50       506\n",
      "   macro avg       0.22      0.23      0.21       506\n",
      "weighted avg       0.59      0.50      0.53       506\n",
      "\n"
     ]
    }
   ],
   "source": [
    "score=modelLDA.score(X_train, y_train)\n",
    "ypred=modelLDA.predict(X_test)\n",
    "cm = confusion_matrix(y_test, ypred)\n",
    "\n",
    "print(\"Score: \",score)\n",
    "print(cm)\n",
    "print(classification_report(y_test, ypred))"
   ]
  }
 ],
 "metadata": {
  "kernelspec": {
   "display_name": "Python 3",
   "language": "python",
   "name": "python3"
  },
  "language_info": {
   "codemirror_mode": {
    "name": "ipython",
    "version": 3
   },
   "file_extension": ".py",
   "mimetype": "text/x-python",
   "name": "python",
   "nbconvert_exporter": "python",
   "pygments_lexer": "ipython3",
   "version": "3.8.3"
  }
 },
 "nbformat": 4,
 "nbformat_minor": 4
}
