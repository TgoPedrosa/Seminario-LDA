{
 "cells": [
  {
   "cell_type": "code",
   "execution_count": null,
   "metadata": {},
   "outputs": [],
   "source": [
    "import pandas as pd\n",
    "import numpy as np\n",
    "import matplotlib.pyplot as plt\n",
    "from sklearn.datasets import load_iris\n",
    "from sklearn.model_selection import train_test_split, cross_val_score, GridSearchCV\n",
    "from sklearn.pipeline import Pipeline\n",
    "from sklearn.discriminant_analysis import LinearDiscriminantAnalysis\n",
    "from sklearn.metrics import confusion_matrix, precision_score, classification_report, accuracy_score\n",
    "from sklearn.compose import ColumnTransformer\n",
    "from sklearn.preprocessing import StandardScaler,normalize\n",
    "from sklearn.ensemble import RandomForestClassifier\n",
    "import seaborn as sns\n",
    "import plotly.offline as py\n",
    "import plotly.graph_objs as go"
   ]
  },
  {
   "cell_type": "code",
   "execution_count": null,
   "metadata": {},
   "outputs": [],
   "source": [
    "# Utilizando data set de Digit Recognizer\n",
    "mnist_data = pd.read_csv(\"train_mnist.csv\")"
   ]
  },
  {
   "cell_type": "code",
   "execution_count": null,
   "metadata": {},
   "outputs": [],
   "source": [
    "mnist_data.head()"
   ]
  },
  {
   "cell_type": "code",
   "execution_count": null,
   "metadata": {},
   "outputs": [],
   "source": [
    "# Veridicando se tem valores nulos\n",
    "sum(mnist_data.isna().sum())"
   ]
  },
  {
   "cell_type": "code",
   "execution_count": null,
   "metadata": {},
   "outputs": [],
   "source": [
    "mnist_data['label'].value_counts()"
   ]
  },
  {
   "cell_type": "code",
   "execution_count": null,
   "metadata": {},
   "outputs": [],
   "source": [
    "X = mnist_data.iloc[:,1:]\n",
    "# Normalizacao de X\n",
    "X_norm = normalize(X)\n",
    "y = mnist_data.iloc[:,:1].values\n",
    "X_train, X_test, y_train, y_test = train_test_split(X_norm, y, \n",
    "                                                    test_size=0.3, \n",
    "                                                    random_state=13)"
   ]
  },
  {
   "cell_type": "markdown",
   "metadata": {},
   "source": [
    "### LDA Classificador"
   ]
  },
  {
   "cell_type": "code",
   "execution_count": null,
   "metadata": {},
   "outputs": [],
   "source": [
    "# Padrão = Number of components for dimensionality reduction n_classes - 1\n",
    "modelLDA = LinearDiscriminantAnalysis()\n",
    "modelLDA.fit(X_train, y_train.ravel())"
   ]
  },
  {
   "cell_type": "code",
   "execution_count": null,
   "metadata": {},
   "outputs": [],
   "source": [
    "score=modelLDA.score(X_train, y_train)\n",
    "ypred=modelLDA.predict(X_test)\n",
    "cm = confusion_matrix(y_test, ypred)\n",
    "\n",
    "print(\"Score: \",score)\n",
    "print('Accuracy' + str(accuracy_score(y_test, ypred)))\n",
    "print(cm)\n",
    "#print(classification_report(y_test, ypred))"
   ]
  },
  {
   "cell_type": "code",
   "execution_count": null,
   "metadata": {},
   "outputs": [],
   "source": [
    "# Quanto maior o valor, maior é a separabilidade da classe\n",
    "pd.Series(np.abs(modelLDA.coef_).sum(axis=1), index=modelLDA.classes_).sort_values().plot.bar(\n",
    "    figsize=(12, 6), title=\"LDA Somatoria dos coeficientes para cada classe\"\n",
    ")"
   ]
  },
  {
   "cell_type": "markdown",
   "metadata": {},
   "source": [
    "### LDA redução de dimensionalidade"
   ]
  },
  {
   "cell_type": "markdown",
   "metadata": {},
   "source": [
    "### Random forest + LDA"
   ]
  },
  {
   "cell_type": "code",
   "execution_count": null,
   "metadata": {},
   "outputs": [],
   "source": [
    "sc = StandardScaler()\n",
    "X_train2 = sc.fit_transform(X_train)\n",
    "X_test2 = sc.transform(X_test)"
   ]
  },
  {
   "cell_type": "code",
   "execution_count": null,
   "metadata": {},
   "outputs": [],
   "source": [
    "# Padrão = Number of components for dimensionality reduction n_classes - 1\n",
    "lda2 = LinearDiscriminantAnalysis()\n",
    "X_train2 = lda2.fit_transform(X_train, y_train.ravel())\n",
    "X_test2 = lda2.transform(X_test)"
   ]
  },
  {
   "cell_type": "code",
   "execution_count": null,
   "metadata": {},
   "outputs": [],
   "source": [
    "clfR2 = RandomForestClassifier()\n",
    "clfR2.fit(X_train2, y_train.ravel())"
   ]
  },
  {
   "cell_type": "code",
   "execution_count": null,
   "metadata": {},
   "outputs": [],
   "source": [
    "score=clfR2.score(X_train2, y_train)\n",
    "ypred=clfR2.predict(X_test2)\n",
    "cm = confusion_matrix(y_test, ypred)\n",
    "\n",
    "print(\"Score: \",score)\n",
    "print('Accuracy: ' + str(accuracy_score(y_test, ypred)))\n",
    "print(cm)"
   ]
  },
  {
   "cell_type": "markdown",
   "metadata": {},
   "source": [
    "O princípio do LDA é maximizar a variância entre as classes e minimizar a variância dentro da classe"
   ]
  },
  {
   "cell_type": "code",
   "execution_count": null,
   "metadata": {},
   "outputs": [],
   "source": [
    "# For cluster coloring in our Plotly plots, remember to also restrict the target values\n",
    "Target =  mnist_data['label'][:6000]\n",
    "X2 = X[:6000]"
   ]
  },
  {
   "cell_type": "code",
   "execution_count": null,
   "metadata": {},
   "outputs": [],
   "source": [
    "X_std = StandardScaler().fit_transform(X2)"
   ]
  },
  {
   "cell_type": "code",
   "execution_count": null,
   "metadata": {},
   "outputs": [],
   "source": [
    "#5 discriminantes lineares\n",
    "lda = LinearDiscriminantAnalysis(n_components=5)\n",
    "X_LDA_2D = lda.fit_transform(X_std, Target.values.ravel())"
   ]
  },
  {
   "cell_type": "code",
   "execution_count": null,
   "metadata": {},
   "outputs": [],
   "source": [
    "# Apenas as duas principais projeções de componentes (discriminante linear)\n",
    "traceLDA = go.Scatter(\n",
    "    x = X_LDA_2D[:, 0],\n",
    "    y = X_LDA_2D[:, 1],\n",
    "    mode = 'markers',\n",
    "    text = Target,\n",
    "    showlegend = True,\n",
    "    marker = dict(\n",
    "        size = 8,\n",
    "        color = Target,\n",
    "        colorscale = 'Jet',\n",
    "        line = dict(\n",
    "            width = 2,\n",
    "            color = 'rgb(255, 255, 255)'\n",
    "        ),\n",
    "        opacity = 0.8\n",
    "    )\n",
    ")\n",
    "data = [traceLDA]\n",
    "\n",
    "layout = go.Layout(\n",
    "    title = 'Linear Discriminant Analysis (LDA)',\n",
    "    hovermode = 'closest',\n",
    "    xaxis = dict(\n",
    "        title = 'First Linear Discriminant',\n",
    "        ticklen = 5,\n",
    "        zeroline = False,\n",
    "        gridwidth = 2,\n",
    "    ),\n",
    "    yaxis = dict(\n",
    "        title = 'Second Linear Discriminant',\n",
    "        ticklen = 5,\n",
    "        gridwidth = 2,\n",
    "    ),\n",
    "    showlegend = False\n",
    ")\n",
    "\n",
    "fig = dict(data=data, layout=layout)\n",
    "py.iplot(fig, filename='styled-scatter')"
   ]
  }
 ],
 "metadata": {
  "kernelspec": {
   "display_name": "Python 3",
   "language": "python",
   "name": "python3"
  },
  "language_info": {
   "codemirror_mode": {
    "name": "ipython",
    "version": 3
   },
   "file_extension": ".py",
   "mimetype": "text/x-python",
   "name": "python",
   "nbconvert_exporter": "python",
   "pygments_lexer": "ipython3",
   "version": "3.8.3"
  }
 },
 "nbformat": 4,
 "nbformat_minor": 4
}
