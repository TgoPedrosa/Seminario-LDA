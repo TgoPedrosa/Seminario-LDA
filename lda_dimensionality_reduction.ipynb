{
 "cells": [
  {
   "cell_type": "markdown",
   "metadata": {},
   "source": [
    "# Redução de dimensionalidade via Linear Discriminant Analysis (LDA)\n",
    "\n",
    "## Seções\n",
    "- Redução de dimensionalidade\n",
    "  - LDA como algoritmo de redução de dimensionalidade\n",
    "- Aplicação\n",
    "- Comparação com PCA"
   ]
  },
  {
   "cell_type": "markdown",
   "metadata": {},
   "source": [
    "## Redução de dimensionalidade\n",
    "\n",
    "**Projetar os dados em uma dimensão menor mantendo as suas propriedades originais e minimizando a perda de informação**\n",
    "\n",
    "![](https://media.geeksforgeeks.org/wp-content/uploads/Dimensionality_Reduction_1.jpg)\n",
    "\n",
    "Aplicações de redução de dimensionalidade:\n",
    "- Redução de ruídos\n",
    "- Visualização de dados\n",
    "- Análise de cluster\n",
    "- Pré processamento para evitar overfitting"
   ]
  },
  {
   "cell_type": "markdown",
   "metadata": {},
   "source": [
    "### LDA como algoritmo de redução de dimensionalidade\n",
    "\n",
    "Notas sobre LDA:\n",
    "\n",
    "- Teorema de Bayes\n",
    "\n",
    "$$ P(Y=k| X=x) = \\frac{P(Y=k) \\cdot P(X=x| Y=k)}{\\sum_{l=1}^K P(Y=l) \\cdot P(X=x| Y=l)}$$\n",
    "\n",
    "- Maximiza as variáveis que separam as diferentes classes de uma variável resposta\n",
    "- Suposições\n",
    "  - Normalidade\n",
    "  - Homocedasticidade*\n",
    "  - Independência\n",
    "- Número mínimo de componentes:\n",
    "\n",
    "$$ n_{comp} \\le \\min(n_{classes} - 1, n_{features}) $$\n",
    "\n",
    "*O método Quadratic Discriminant Analysis engloba heterocedasticidade\n",
    "\n",
    "---\n",
    "\n",
    "![](https://sebastianraschka.com/images/blog/2014/linear-discriminant-analysis/lda_1.png)"
   ]
  },
  {
   "cell_type": "markdown",
   "metadata": {},
   "source": [
    "## Aplicação"
   ]
  },
  {
   "cell_type": "code",
   "execution_count": null,
   "metadata": {},
   "outputs": [],
   "source": [
    "import pandas as pd\n",
    "from sklearn.discriminant_analysis import LinearDiscriminantAnalysis\n",
    "import seaborn as sns\n",
    "import plotly.express as px\n",
    "import matplotlib.pyplot as plt\n",
    "\n",
    "%matplotlib inline"
   ]
  },
  {
   "cell_type": "code",
   "execution_count": null,
   "metadata": {},
   "outputs": [],
   "source": [
    "parkinson = pd.read_csv(\"parkinsons.data\", delimiter=\",\")\n",
    "parkinson.drop([\"name\"], axis=1, inplace=True)\n",
    "\n",
    "x = parkinson.drop([\"status\"], axis=1)\n",
    "y = parkinson[\"status\"]\n",
    "\n",
    "print(\"Dimensão (linhas, colunas):\", parkinson.shape)\n",
    "parkinson.head()"
   ]
  },
  {
   "cell_type": "code",
   "execution_count": null,
   "metadata": {},
   "outputs": [],
   "source": [
    "cols = x.columns.tolist()\n",
    "data1 = pd.concat([x[cols[:7]], y], axis=1)\n",
    "data2 = pd.concat([x[cols[7:14]], y], axis=1)\n",
    "data3 = pd.concat([x[cols[14:]], y], axis=1)"
   ]
  },
  {
   "cell_type": "code",
   "execution_count": null,
   "metadata": {},
   "outputs": [],
   "source": [
    "sns.pairplot(data1)"
   ]
  },
  {
   "cell_type": "code",
   "execution_count": null,
   "metadata": {},
   "outputs": [],
   "source": [
    "sns.pairplot(data2)"
   ]
  },
  {
   "cell_type": "code",
   "execution_count": null,
   "metadata": {},
   "outputs": [],
   "source": [
    "sns.pairplot(data3)"
   ]
  },
  {
   "cell_type": "code",
   "execution_count": null,
   "metadata": {},
   "outputs": [],
   "source": [
    "lda = LinearDiscriminantAnalysis()\n",
    "x_lda = lda.fit(x, y).transform(x)\n",
    "\n",
    "df_lda = pd.DataFrame(x_lda, columns=[\"x\"])\n",
    "df_lda[\"y\"] = y"
   ]
  },
  {
   "cell_type": "code",
   "execution_count": null,
   "metadata": {},
   "outputs": [],
   "source": [
    "plt.hist(df_lda[df_lda[\"y\"] == 0][\"x\"], alpha=0.5, label=\"0\")\n",
    "plt.hist(df_lda[df_lda[\"y\"] == 1][\"x\"], alpha=0.5, label=\"1\")\n",
    "plt.legend(loc='upper right')"
   ]
  },
  {
   "cell_type": "markdown",
   "metadata": {},
   "source": [
    "## Comparação com PCA"
   ]
  },
  {
   "cell_type": "code",
   "execution_count": null,
   "metadata": {},
   "outputs": [],
   "source": [
    "from sklearn.decomposition import PCA"
   ]
  },
  {
   "cell_type": "code",
   "execution_count": null,
   "metadata": {},
   "outputs": [],
   "source": [
    "pca = PCA(n_components=2)\n",
    "pca.fit(x)\n",
    "x_pca = pca.transform(x)\n",
    "print(\"Variância explicada:\", pca.explained_variance_ratio_)"
   ]
  },
  {
   "cell_type": "code",
   "execution_count": null,
   "metadata": {},
   "outputs": [],
   "source": [
    "df_pca = pd.DataFrame(x_pca, columns=['PC1', 'PC2'], index=x.index)\n",
    "df_pca[\"y\"] = list(map(lambda x: \"C\" + str(x), y))"
   ]
  },
  {
   "cell_type": "code",
   "execution_count": null,
   "metadata": {},
   "outputs": [],
   "source": [
    "px.scatter(df_pca, x=\"PC1\", y=\"PC2\", color=\"y\")"
   ]
  }
 ],
 "metadata": {
  "kernelspec": {
   "display_name": "Python 3",
   "language": "python",
   "name": "python3"
  },
  "language_info": {
   "codemirror_mode": {
    "name": "ipython",
    "version": 3
   },
   "file_extension": ".py",
   "mimetype": "text/x-python",
   "name": "python",
   "nbconvert_exporter": "python",
   "pygments_lexer": "ipython3",
   "version": "3.6.12"
  }
 },
 "nbformat": 4,
 "nbformat_minor": 4
}
